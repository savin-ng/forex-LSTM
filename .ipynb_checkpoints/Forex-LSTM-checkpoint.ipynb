{
 "cells": [
  {
   "cell_type": "markdown",
   "metadata": {},
   "source": [
    "# Foreign Exchange Rate Prediction using LSTM Recurrent Neural Network"
   ]
  },
  {
   "cell_type": "markdown",
   "metadata": {},
   "source": [
    "We will implement the LSTM Recurrent Neural Network to predict the foreign exchange rate. The LSTM model will be trained to learn the series of previous observations and predict the next observation in the sequence. We will apply this model in predicting the foreign exchange rate of India."
   ]
  },
  {
   "cell_type": "code",
   "execution_count": null,
   "metadata": {
    "execution": {
     "iopub.execute_input": "2024-12-11T04:18:42.515221Z",
     "iopub.status.busy": "2024-12-11T04:18:42.514887Z",
     "iopub.status.idle": "2024-12-11T04:18:42.520327Z",
     "shell.execute_reply": "2024-12-11T04:18:42.519582Z",
     "shell.execute_reply.started": "2024-12-11T04:18:42.515192Z"
    },
    "executionInfo": {
     "elapsed": 3083,
     "status": "ok",
     "timestamp": 1592973449774,
     "user": {
      "displayName": "Dr. Vaibhav Kumar",
      "photoUrl": "https://lh3.googleusercontent.com/a-/AOh14Ggv0ODnZNPUUE1bFaIOUaFH9CpYqhZjPkcwn9lJqA=s64",
      "userId": "18385588513169057983"
     },
     "user_tz": -330
    },
    "id": "CGpgBRToPdB0",
    "outputId": "78864d2b-6596-4848-b959-8f9d016e1971",
    "trusted": true
   },
   "outputs": [],
   "source": [
    "#Importing Libraries\n",
    "import pandas as pd\n",
    "import numpy as np\n",
    "import matplotlib.pyplot as plt\n",
    "%matplotlib inline\n",
    "import tensorflow as tf\n",
    "import keras\n",
    "from sklearn.preprocessing import MinMaxScaler\n",
    "scaler = MinMaxScaler()\n",
    "from keras.models import Sequential\n",
    "from keras.layers import Dense,LSTM\n",
    "from sklearn.metrics import mean_squared_error"
   ]
  },
  {
   "cell_type": "code",
   "execution_count": 343,
   "metadata": {
    "execution": {
     "iopub.execute_input": "2024-12-11T04:18:42.527706Z",
     "iopub.status.busy": "2024-12-11T04:18:42.527458Z",
     "iopub.status.idle": "2024-12-11T04:18:42.552005Z",
     "shell.execute_reply": "2024-12-11T04:18:42.551245Z",
     "shell.execute_reply.started": "2024-12-11T04:18:42.527682Z"
    },
    "executionInfo": {
     "elapsed": 3073,
     "status": "ok",
     "timestamp": 1592973449776,
     "user": {
      "displayName": "Dr. Vaibhav Kumar",
      "photoUrl": "https://lh3.googleusercontent.com/a-/AOh14Ggv0ODnZNPUUE1bFaIOUaFH9CpYqhZjPkcwn9lJqA=s64",
      "userId": "18385588513169057983"
     },
     "user_tz": -330
    },
    "id": "B7raJ8yrPqBY",
    "trusted": true
   },
   "outputs": [],
   "source": [
    "#Reading dataset\n",
    "data_set = pd.read_csv('../input/foreign-exchange-rates-per-dollar-20002019/Foreign_Exchange_Rates.csv', na_values='ND')"
   ]
  },
  {
   "cell_type": "code",
   "execution_count": 344,
   "metadata": {
    "execution": {
     "iopub.execute_input": "2024-12-11T04:18:42.554119Z",
     "iopub.status.busy": "2024-12-11T04:18:42.553871Z",
     "iopub.status.idle": "2024-12-11T04:18:42.558458Z",
     "shell.execute_reply": "2024-12-11T04:18:42.557758Z",
     "shell.execute_reply.started": "2024-12-11T04:18:42.554096Z"
    },
    "executionInfo": {
     "elapsed": 3008,
     "status": "ok",
     "timestamp": 1592973449778,
     "user": {
      "displayName": "Dr. Vaibhav Kumar",
      "photoUrl": "https://lh3.googleusercontent.com/a-/AOh14Ggv0ODnZNPUUE1bFaIOUaFH9CpYqhZjPkcwn9lJqA=s64",
      "userId": "18385588513169057983"
     },
     "user_tz": -330
    },
    "id": "CdWShU4LCWts",
    "outputId": "6cc90522-a348-4484-fc6a-7b3b74db597b",
    "trusted": true
   },
   "outputs": [
    {
     "data": {
      "text/plain": [
       "(5217, 24)"
      ]
     },
     "execution_count": 344,
     "metadata": {},
     "output_type": "execute_result"
    }
   ],
   "source": [
    "data_set.shape"
   ]
  },
  {
   "cell_type": "code",
   "execution_count": 345,
   "metadata": {
    "execution": {
     "iopub.execute_input": "2024-12-11T04:18:42.559875Z",
     "iopub.status.busy": "2024-12-11T04:18:42.559526Z",
     "iopub.status.idle": "2024-12-11T04:18:42.589175Z",
     "shell.execute_reply": "2024-12-11T04:18:42.588416Z",
     "shell.execute_reply.started": "2024-12-11T04:18:42.559841Z"
    },
    "executionInfo": {
     "elapsed": 2982,
     "status": "ok",
     "timestamp": 1592973449779,
     "user": {
      "displayName": "Dr. Vaibhav Kumar",
      "photoUrl": "https://lh3.googleusercontent.com/a-/AOh14Ggv0ODnZNPUUE1bFaIOUaFH9CpYqhZjPkcwn9lJqA=s64",
      "userId": "18385588513169057983"
     },
     "user_tz": -330
    },
    "id": "cw-YlY_APvPT",
    "outputId": "875a268d-2c0d-45d3-a633-a338d91c313e",
    "trusted": true
   },
   "outputs": [
    {
     "data": {
      "text/html": [
       "<div>\n",
       "<style scoped>\n",
       "    .dataframe tbody tr th:only-of-type {\n",
       "        vertical-align: middle;\n",
       "    }\n",
       "\n",
       "    .dataframe tbody tr th {\n",
       "        vertical-align: top;\n",
       "    }\n",
       "\n",
       "    .dataframe thead th {\n",
       "        text-align: right;\n",
       "    }\n",
       "</style>\n",
       "<table border=\"1\" class=\"dataframe\">\n",
       "  <thead>\n",
       "    <tr style=\"text-align: right;\">\n",
       "      <th></th>\n",
       "      <th>Unnamed: 0</th>\n",
       "      <th>Time Serie</th>\n",
       "      <th>AUSTRALIA - AUSTRALIAN DOLLAR/US$</th>\n",
       "      <th>EURO AREA - EURO/US$</th>\n",
       "      <th>NEW ZEALAND - NEW ZELAND DOLLAR/US$</th>\n",
       "      <th>UNITED KINGDOM - UNITED KINGDOM POUND/US$</th>\n",
       "      <th>BRAZIL - REAL/US$</th>\n",
       "      <th>CANADA - CANADIAN DOLLAR/US$</th>\n",
       "      <th>CHINA - YUAN/US$</th>\n",
       "      <th>HONG KONG - HONG KONG DOLLAR/US$</th>\n",
       "      <th>...</th>\n",
       "      <th>SINGAPORE - SINGAPORE DOLLAR/US$</th>\n",
       "      <th>DENMARK - DANISH KRONE/US$</th>\n",
       "      <th>JAPAN - YEN/US$</th>\n",
       "      <th>MALAYSIA - RINGGIT/US$</th>\n",
       "      <th>NORWAY - NORWEGIAN KRONE/US$</th>\n",
       "      <th>SWEDEN - KRONA/US$</th>\n",
       "      <th>SRI LANKA - SRI LANKAN RUPEE/US$</th>\n",
       "      <th>SWITZERLAND - FRANC/US$</th>\n",
       "      <th>TAIWAN - NEW TAIWAN DOLLAR/US$</th>\n",
       "      <th>THAILAND - BAHT/US$</th>\n",
       "    </tr>\n",
       "  </thead>\n",
       "  <tbody>\n",
       "    <tr>\n",
       "      <th>0</th>\n",
       "      <td>0</td>\n",
       "      <td>2000-01-03</td>\n",
       "      <td>1.5172</td>\n",
       "      <td>0.9847</td>\n",
       "      <td>1.9033</td>\n",
       "      <td>0.6146</td>\n",
       "      <td>1.8050</td>\n",
       "      <td>1.4465</td>\n",
       "      <td>8.2798</td>\n",
       "      <td>7.7765</td>\n",
       "      <td>...</td>\n",
       "      <td>1.6563</td>\n",
       "      <td>7.3290</td>\n",
       "      <td>101.70</td>\n",
       "      <td>3.8</td>\n",
       "      <td>7.9640</td>\n",
       "      <td>8.4430</td>\n",
       "      <td>72.30</td>\n",
       "      <td>1.5808</td>\n",
       "      <td>31.38</td>\n",
       "      <td>36.97</td>\n",
       "    </tr>\n",
       "    <tr>\n",
       "      <th>1</th>\n",
       "      <td>1</td>\n",
       "      <td>2000-01-04</td>\n",
       "      <td>1.5239</td>\n",
       "      <td>0.9700</td>\n",
       "      <td>1.9238</td>\n",
       "      <td>0.6109</td>\n",
       "      <td>1.8405</td>\n",
       "      <td>1.4518</td>\n",
       "      <td>8.2799</td>\n",
       "      <td>7.7775</td>\n",
       "      <td>...</td>\n",
       "      <td>1.6535</td>\n",
       "      <td>7.2180</td>\n",
       "      <td>103.09</td>\n",
       "      <td>3.8</td>\n",
       "      <td>7.9340</td>\n",
       "      <td>8.3600</td>\n",
       "      <td>72.65</td>\n",
       "      <td>1.5565</td>\n",
       "      <td>30.60</td>\n",
       "      <td>37.13</td>\n",
       "    </tr>\n",
       "    <tr>\n",
       "      <th>2</th>\n",
       "      <td>2</td>\n",
       "      <td>2000-01-05</td>\n",
       "      <td>1.5267</td>\n",
       "      <td>0.9676</td>\n",
       "      <td>1.9339</td>\n",
       "      <td>0.6092</td>\n",
       "      <td>1.8560</td>\n",
       "      <td>1.4518</td>\n",
       "      <td>8.2798</td>\n",
       "      <td>7.7780</td>\n",
       "      <td>...</td>\n",
       "      <td>1.6560</td>\n",
       "      <td>7.2080</td>\n",
       "      <td>103.77</td>\n",
       "      <td>3.8</td>\n",
       "      <td>7.9350</td>\n",
       "      <td>8.3530</td>\n",
       "      <td>72.95</td>\n",
       "      <td>1.5526</td>\n",
       "      <td>30.80</td>\n",
       "      <td>37.10</td>\n",
       "    </tr>\n",
       "    <tr>\n",
       "      <th>3</th>\n",
       "      <td>3</td>\n",
       "      <td>2000-01-06</td>\n",
       "      <td>1.5291</td>\n",
       "      <td>0.9686</td>\n",
       "      <td>1.9436</td>\n",
       "      <td>0.6070</td>\n",
       "      <td>1.8400</td>\n",
       "      <td>1.4571</td>\n",
       "      <td>8.2797</td>\n",
       "      <td>7.7785</td>\n",
       "      <td>...</td>\n",
       "      <td>1.6655</td>\n",
       "      <td>7.2125</td>\n",
       "      <td>105.19</td>\n",
       "      <td>3.8</td>\n",
       "      <td>7.9400</td>\n",
       "      <td>8.3675</td>\n",
       "      <td>72.95</td>\n",
       "      <td>1.5540</td>\n",
       "      <td>31.75</td>\n",
       "      <td>37.62</td>\n",
       "    </tr>\n",
       "    <tr>\n",
       "      <th>4</th>\n",
       "      <td>4</td>\n",
       "      <td>2000-01-07</td>\n",
       "      <td>1.5272</td>\n",
       "      <td>0.9714</td>\n",
       "      <td>1.9380</td>\n",
       "      <td>0.6104</td>\n",
       "      <td>1.8310</td>\n",
       "      <td>1.4505</td>\n",
       "      <td>8.2794</td>\n",
       "      <td>7.7783</td>\n",
       "      <td>...</td>\n",
       "      <td>1.6625</td>\n",
       "      <td>7.2285</td>\n",
       "      <td>105.17</td>\n",
       "      <td>3.8</td>\n",
       "      <td>7.9660</td>\n",
       "      <td>8.4150</td>\n",
       "      <td>73.15</td>\n",
       "      <td>1.5623</td>\n",
       "      <td>30.85</td>\n",
       "      <td>37.30</td>\n",
       "    </tr>\n",
       "    <tr>\n",
       "      <th>5</th>\n",
       "      <td>5</td>\n",
       "      <td>2000-01-10</td>\n",
       "      <td>1.5242</td>\n",
       "      <td>0.9754</td>\n",
       "      <td>1.9350</td>\n",
       "      <td>0.6107</td>\n",
       "      <td>1.8190</td>\n",
       "      <td>1.4568</td>\n",
       "      <td>8.2794</td>\n",
       "      <td>7.7785</td>\n",
       "      <td>...</td>\n",
       "      <td>1.6618</td>\n",
       "      <td>7.2540</td>\n",
       "      <td>105.28</td>\n",
       "      <td>3.8</td>\n",
       "      <td>8.0240</td>\n",
       "      <td>8.4490</td>\n",
       "      <td>73.30</td>\n",
       "      <td>1.5704</td>\n",
       "      <td>30.83</td>\n",
       "      <td>37.27</td>\n",
       "    </tr>\n",
       "    <tr>\n",
       "      <th>6</th>\n",
       "      <td>6</td>\n",
       "      <td>2000-01-11</td>\n",
       "      <td>1.5209</td>\n",
       "      <td>0.9688</td>\n",
       "      <td>1.9365</td>\n",
       "      <td>0.6068</td>\n",
       "      <td>1.8225</td>\n",
       "      <td>1.4570</td>\n",
       "      <td>8.2795</td>\n",
       "      <td>7.7785</td>\n",
       "      <td>...</td>\n",
       "      <td>1.6690</td>\n",
       "      <td>7.2140</td>\n",
       "      <td>106.09</td>\n",
       "      <td>3.8</td>\n",
       "      <td>7.9690</td>\n",
       "      <td>8.3970</td>\n",
       "      <td>73.35</td>\n",
       "      <td>1.5605</td>\n",
       "      <td>30.83</td>\n",
       "      <td>37.61</td>\n",
       "    </tr>\n",
       "    <tr>\n",
       "      <th>7</th>\n",
       "      <td>7</td>\n",
       "      <td>2000-01-12</td>\n",
       "      <td>1.5202</td>\n",
       "      <td>0.9727</td>\n",
       "      <td>1.9286</td>\n",
       "      <td>0.6073</td>\n",
       "      <td>1.8350</td>\n",
       "      <td>1.4550</td>\n",
       "      <td>8.2796</td>\n",
       "      <td>7.7787</td>\n",
       "      <td>...</td>\n",
       "      <td>1.6690</td>\n",
       "      <td>7.2360</td>\n",
       "      <td>105.76</td>\n",
       "      <td>3.8</td>\n",
       "      <td>7.9770</td>\n",
       "      <td>8.4180</td>\n",
       "      <td>73.35</td>\n",
       "      <td>1.5660</td>\n",
       "      <td>30.80</td>\n",
       "      <td>37.54</td>\n",
       "    </tr>\n",
       "    <tr>\n",
       "      <th>8</th>\n",
       "      <td>8</td>\n",
       "      <td>2000-01-13</td>\n",
       "      <td>1.4954</td>\n",
       "      <td>0.9737</td>\n",
       "      <td>1.9084</td>\n",
       "      <td>0.6067</td>\n",
       "      <td>1.8140</td>\n",
       "      <td>1.4495</td>\n",
       "      <td>8.2798</td>\n",
       "      <td>7.7788</td>\n",
       "      <td>...</td>\n",
       "      <td>1.6700</td>\n",
       "      <td>7.2520</td>\n",
       "      <td>106.09</td>\n",
       "      <td>3.8</td>\n",
       "      <td>7.9425</td>\n",
       "      <td>8.4170</td>\n",
       "      <td>73.35</td>\n",
       "      <td>1.5707</td>\n",
       "      <td>30.80</td>\n",
       "      <td>37.49</td>\n",
       "    </tr>\n",
       "    <tr>\n",
       "      <th>9</th>\n",
       "      <td>9</td>\n",
       "      <td>2000-01-14</td>\n",
       "      <td>1.5004</td>\n",
       "      <td>0.9874</td>\n",
       "      <td>1.9186</td>\n",
       "      <td>0.6115</td>\n",
       "      <td>1.8050</td>\n",
       "      <td>1.4497</td>\n",
       "      <td>8.2797</td>\n",
       "      <td>7.7789</td>\n",
       "      <td>...</td>\n",
       "      <td>1.6752</td>\n",
       "      <td>7.3470</td>\n",
       "      <td>105.86</td>\n",
       "      <td>3.8</td>\n",
       "      <td>7.9970</td>\n",
       "      <td>8.4740</td>\n",
       "      <td>73.35</td>\n",
       "      <td>1.5945</td>\n",
       "      <td>30.83</td>\n",
       "      <td>37.55</td>\n",
       "    </tr>\n",
       "  </tbody>\n",
       "</table>\n",
       "<p>10 rows × 24 columns</p>\n",
       "</div>"
      ],
      "text/plain": [
       "   Unnamed: 0  Time Serie  AUSTRALIA - AUSTRALIAN DOLLAR/US$  \\\n",
       "0           0  2000-01-03                             1.5172   \n",
       "1           1  2000-01-04                             1.5239   \n",
       "2           2  2000-01-05                             1.5267   \n",
       "3           3  2000-01-06                             1.5291   \n",
       "4           4  2000-01-07                             1.5272   \n",
       "5           5  2000-01-10                             1.5242   \n",
       "6           6  2000-01-11                             1.5209   \n",
       "7           7  2000-01-12                             1.5202   \n",
       "8           8  2000-01-13                             1.4954   \n",
       "9           9  2000-01-14                             1.5004   \n",
       "\n",
       "   EURO AREA - EURO/US$  NEW ZEALAND - NEW ZELAND DOLLAR/US$  \\\n",
       "0                0.9847                               1.9033   \n",
       "1                0.9700                               1.9238   \n",
       "2                0.9676                               1.9339   \n",
       "3                0.9686                               1.9436   \n",
       "4                0.9714                               1.9380   \n",
       "5                0.9754                               1.9350   \n",
       "6                0.9688                               1.9365   \n",
       "7                0.9727                               1.9286   \n",
       "8                0.9737                               1.9084   \n",
       "9                0.9874                               1.9186   \n",
       "\n",
       "   UNITED KINGDOM - UNITED KINGDOM POUND/US$  BRAZIL - REAL/US$  \\\n",
       "0                                     0.6146             1.8050   \n",
       "1                                     0.6109             1.8405   \n",
       "2                                     0.6092             1.8560   \n",
       "3                                     0.6070             1.8400   \n",
       "4                                     0.6104             1.8310   \n",
       "5                                     0.6107             1.8190   \n",
       "6                                     0.6068             1.8225   \n",
       "7                                     0.6073             1.8350   \n",
       "8                                     0.6067             1.8140   \n",
       "9                                     0.6115             1.8050   \n",
       "\n",
       "   CANADA - CANADIAN DOLLAR/US$  CHINA - YUAN/US$  \\\n",
       "0                        1.4465            8.2798   \n",
       "1                        1.4518            8.2799   \n",
       "2                        1.4518            8.2798   \n",
       "3                        1.4571            8.2797   \n",
       "4                        1.4505            8.2794   \n",
       "5                        1.4568            8.2794   \n",
       "6                        1.4570            8.2795   \n",
       "7                        1.4550            8.2796   \n",
       "8                        1.4495            8.2798   \n",
       "9                        1.4497            8.2797   \n",
       "\n",
       "   HONG KONG - HONG KONG DOLLAR/US$  ...  SINGAPORE - SINGAPORE DOLLAR/US$  \\\n",
       "0                            7.7765  ...                            1.6563   \n",
       "1                            7.7775  ...                            1.6535   \n",
       "2                            7.7780  ...                            1.6560   \n",
       "3                            7.7785  ...                            1.6655   \n",
       "4                            7.7783  ...                            1.6625   \n",
       "5                            7.7785  ...                            1.6618   \n",
       "6                            7.7785  ...                            1.6690   \n",
       "7                            7.7787  ...                            1.6690   \n",
       "8                            7.7788  ...                            1.6700   \n",
       "9                            7.7789  ...                            1.6752   \n",
       "\n",
       "   DENMARK - DANISH KRONE/US$  JAPAN - YEN/US$  MALAYSIA - RINGGIT/US$  \\\n",
       "0                      7.3290           101.70                     3.8   \n",
       "1                      7.2180           103.09                     3.8   \n",
       "2                      7.2080           103.77                     3.8   \n",
       "3                      7.2125           105.19                     3.8   \n",
       "4                      7.2285           105.17                     3.8   \n",
       "5                      7.2540           105.28                     3.8   \n",
       "6                      7.2140           106.09                     3.8   \n",
       "7                      7.2360           105.76                     3.8   \n",
       "8                      7.2520           106.09                     3.8   \n",
       "9                      7.3470           105.86                     3.8   \n",
       "\n",
       "   NORWAY - NORWEGIAN KRONE/US$  SWEDEN - KRONA/US$  \\\n",
       "0                        7.9640              8.4430   \n",
       "1                        7.9340              8.3600   \n",
       "2                        7.9350              8.3530   \n",
       "3                        7.9400              8.3675   \n",
       "4                        7.9660              8.4150   \n",
       "5                        8.0240              8.4490   \n",
       "6                        7.9690              8.3970   \n",
       "7                        7.9770              8.4180   \n",
       "8                        7.9425              8.4170   \n",
       "9                        7.9970              8.4740   \n",
       "\n",
       "   SRI LANKA - SRI LANKAN RUPEE/US$  SWITZERLAND - FRANC/US$  \\\n",
       "0                             72.30                   1.5808   \n",
       "1                             72.65                   1.5565   \n",
       "2                             72.95                   1.5526   \n",
       "3                             72.95                   1.5540   \n",
       "4                             73.15                   1.5623   \n",
       "5                             73.30                   1.5704   \n",
       "6                             73.35                   1.5605   \n",
       "7                             73.35                   1.5660   \n",
       "8                             73.35                   1.5707   \n",
       "9                             73.35                   1.5945   \n",
       "\n",
       "   TAIWAN - NEW TAIWAN DOLLAR/US$  THAILAND - BAHT/US$  \n",
       "0                           31.38                36.97  \n",
       "1                           30.60                37.13  \n",
       "2                           30.80                37.10  \n",
       "3                           31.75                37.62  \n",
       "4                           30.85                37.30  \n",
       "5                           30.83                37.27  \n",
       "6                           30.83                37.61  \n",
       "7                           30.80                37.54  \n",
       "8                           30.80                37.49  \n",
       "9                           30.83                37.55  \n",
       "\n",
       "[10 rows x 24 columns]"
      ]
     },
     "execution_count": 345,
     "metadata": {},
     "output_type": "execute_result"
    }
   ],
   "source": [
    "#Dataset head\n",
    "data_set.head(10)"
   ]
  },
  {
   "cell_type": "code",
   "execution_count": 346,
   "metadata": {
    "execution": {
     "iopub.execute_input": "2024-12-11T04:18:42.590956Z",
     "iopub.status.busy": "2024-12-11T04:18:42.590612Z",
     "iopub.status.idle": "2024-12-11T04:18:42.597976Z",
     "shell.execute_reply": "2024-12-11T04:18:42.597330Z",
     "shell.execute_reply.started": "2024-12-11T04:18:42.590923Z"
    },
    "executionInfo": {
     "elapsed": 2952,
     "status": "ok",
     "timestamp": 1592973449780,
     "user": {
      "displayName": "Dr. Vaibhav Kumar",
      "photoUrl": "https://lh3.googleusercontent.com/a-/AOh14Ggv0ODnZNPUUE1bFaIOUaFH9CpYqhZjPkcwn9lJqA=s64",
      "userId": "18385588513169057983"
     },
     "user_tz": -330
    },
    "id": "gs9HZoftSiQi",
    "outputId": "cd8d6691-0668-473f-f2ba-372b7a8e5ca3",
    "trusted": true
   },
   "outputs": [
    {
     "data": {
      "text/plain": [
       "Unnamed: 0                                     0\n",
       "Time Serie                                     0\n",
       "AUSTRALIA - AUSTRALIAN DOLLAR/US$            198\n",
       "EURO AREA - EURO/US$                         198\n",
       "NEW ZEALAND - NEW ZELAND DOLLAR/US$          198\n",
       "UNITED KINGDOM - UNITED KINGDOM POUND/US$    198\n",
       "BRAZIL - REAL/US$                            198\n",
       "CANADA - CANADIAN DOLLAR/US$                 198\n",
       "CHINA - YUAN/US$                             197\n",
       "HONG KONG - HONG KONG DOLLAR/US$             198\n",
       "INDIA - INDIAN RUPEE/US$                     199\n",
       "KOREA - WON/US$                              198\n",
       "MEXICO - MEXICAN PESO/US$                    198\n",
       "SOUTH AFRICA - RAND/US$                      198\n",
       "SINGAPORE - SINGAPORE DOLLAR/US$             198\n",
       "DENMARK - DANISH KRONE/US$                   198\n",
       "JAPAN - YEN/US$                              198\n",
       "MALAYSIA - RINGGIT/US$                       198\n",
       "NORWAY - NORWEGIAN KRONE/US$                 198\n",
       "SWEDEN - KRONA/US$                           198\n",
       "SRI LANKA - SRI LANKAN RUPEE/US$             198\n",
       "SWITZERLAND - FRANC/US$                      198\n",
       "TAIWAN - NEW TAIWAN DOLLAR/US$               201\n",
       "THAILAND - BAHT/US$                          198\n",
       "dtype: int64"
      ]
     },
     "execution_count": 346,
     "metadata": {},
     "output_type": "execute_result"
    }
   ],
   "source": [
    "#Checking null values\n",
    "data_set.isnull().sum()"
   ]
  },
  {
   "cell_type": "code",
   "execution_count": 347,
   "metadata": {
    "execution": {
     "iopub.execute_input": "2024-12-11T04:18:42.600594Z",
     "iopub.status.busy": "2024-12-11T04:18:42.600348Z",
     "iopub.status.idle": "2024-12-11T04:18:42.615289Z",
     "shell.execute_reply": "2024-12-11T04:18:42.614555Z",
     "shell.execute_reply.started": "2024-12-11T04:18:42.600559Z"
    },
    "executionInfo": {
     "elapsed": 2914,
     "status": "ok",
     "timestamp": 1592973449781,
     "user": {
      "displayName": "Dr. Vaibhav Kumar",
      "photoUrl": "https://lh3.googleusercontent.com/a-/AOh14Ggv0ODnZNPUUE1bFaIOUaFH9CpYqhZjPkcwn9lJqA=s64",
      "userId": "18385588513169057983"
     },
     "user_tz": -330
    },
    "id": "38VFuMQ2Sjno",
    "outputId": "c267106d-8d22-47f5-adc2-8bae9305b21b",
    "trusted": true
   },
   "outputs": [
    {
     "data": {
      "text/plain": [
       "Unnamed: 0                                   0\n",
       "Time Serie                                   0\n",
       "AUSTRALIA - AUSTRALIAN DOLLAR/US$            0\n",
       "EURO AREA - EURO/US$                         0\n",
       "NEW ZEALAND - NEW ZELAND DOLLAR/US$          0\n",
       "UNITED KINGDOM - UNITED KINGDOM POUND/US$    0\n",
       "BRAZIL - REAL/US$                            0\n",
       "CANADA - CANADIAN DOLLAR/US$                 0\n",
       "CHINA - YUAN/US$                             0\n",
       "HONG KONG - HONG KONG DOLLAR/US$             0\n",
       "INDIA - INDIAN RUPEE/US$                     0\n",
       "KOREA - WON/US$                              0\n",
       "MEXICO - MEXICAN PESO/US$                    0\n",
       "SOUTH AFRICA - RAND/US$                      0\n",
       "SINGAPORE - SINGAPORE DOLLAR/US$             0\n",
       "DENMARK - DANISH KRONE/US$                   0\n",
       "JAPAN - YEN/US$                              0\n",
       "MALAYSIA - RINGGIT/US$                       0\n",
       "NORWAY - NORWEGIAN KRONE/US$                 0\n",
       "SWEDEN - KRONA/US$                           0\n",
       "SRI LANKA - SRI LANKAN RUPEE/US$             0\n",
       "SWITZERLAND - FRANC/US$                      0\n",
       "TAIWAN - NEW TAIWAN DOLLAR/US$               0\n",
       "THAILAND - BAHT/US$                          0\n",
       "dtype: int64"
      ]
     },
     "execution_count": 347,
     "metadata": {},
     "output_type": "execute_result"
    }
   ],
   "source": [
    "data_set.interpolate(inplace=True)\n",
    "data_set.isnull().sum()"
   ]
  },
  {
   "cell_type": "code",
   "execution_count": 348,
   "metadata": {
    "execution": {
     "iopub.execute_input": "2024-12-11T04:18:42.616478Z",
     "iopub.status.busy": "2024-12-11T04:18:42.616275Z",
     "iopub.status.idle": "2024-12-11T04:18:42.731349Z",
     "shell.execute_reply": "2024-12-11T04:18:42.730494Z",
     "shell.execute_reply.started": "2024-12-11T04:18:42.616459Z"
    },
    "executionInfo": {
     "elapsed": 3726,
     "status": "ok",
     "timestamp": 1592973450622,
     "user": {
      "displayName": "Dr. Vaibhav Kumar",
      "photoUrl": "https://lh3.googleusercontent.com/a-/AOh14Ggv0ODnZNPUUE1bFaIOUaFH9CpYqhZjPkcwn9lJqA=s64",
      "userId": "18385588513169057983"
     },
     "user_tz": -330
    },
    "id": "zxBUWPCgPzeM",
    "outputId": "d385cb9a-978b-400a-c154-b9b82ac877e5",
    "trusted": true
   },
   "outputs": [
    {
     "data": {
      "text/plain": [
       "[<matplotlib.lines.Line2D at 0x7b0463829950>]"
      ]
     },
     "execution_count": 348,
     "metadata": {},
     "output_type": "execute_result"
    },
    {
     "data": {
      "image/png": "[encoded data removed]",
      "text/plain": [
       "<Figure size 432x288 with 1 Axes>"
      ]
     },
     "metadata": {
      "needs_background": "light"
     },
     "output_type": "display_data"
    }
   ],
   "source": [
    "#Plotting Indian Exchange rate\n",
    "plt.plot(data_set['EURO AREA - EURO/US$'])"
   ]
  },
  {
   "cell_type": "code",
   "execution_count": 349,
   "metadata": {
    "execution": {
     "iopub.execute_input": "2024-12-11T04:18:42.732998Z",
     "iopub.status.busy": "2024-12-11T04:18:42.732707Z",
     "iopub.status.idle": "2024-12-11T04:18:42.736755Z",
     "shell.execute_reply": "2024-12-11T04:18:42.735826Z",
     "shell.execute_reply.started": "2024-12-11T04:18:42.732973Z"
    },
    "executionInfo": {
     "elapsed": 3716,
     "status": "ok",
     "timestamp": 1592973450623,
     "user": {
      "displayName": "Dr. Vaibhav Kumar",
      "photoUrl": "https://lh3.googleusercontent.com/a-/AOh14Ggv0ODnZNPUUE1bFaIOUaFH9CpYqhZjPkcwn9lJqA=s64",
      "userId": "18385588513169057983"
     },
     "user_tz": -330
    },
    "id": "KchDR_yYP6EL",
    "trusted": true
   },
   "outputs": [],
   "source": [
    "#Data frame\n",
    "df = data_set['EURO AREA - EURO/US$']"
   ]
  },
  {
   "cell_type": "code",
   "execution_count": 350,
   "metadata": {
    "execution": {
     "iopub.execute_input": "2024-12-11T04:18:42.738449Z",
     "iopub.status.busy": "2024-12-11T04:18:42.738143Z",
     "iopub.status.idle": "2024-12-11T04:18:42.749887Z",
     "shell.execute_reply": "2024-12-11T04:18:42.749143Z",
     "shell.execute_reply.started": "2024-12-11T04:18:42.738419Z"
    },
    "executionInfo": {
     "elapsed": 3684,
     "status": "ok",
     "timestamp": 1592973450626,
     "user": {
      "displayName": "Dr. Vaibhav Kumar",
      "photoUrl": "https://lh3.googleusercontent.com/a-/AOh14Ggv0ODnZNPUUE1bFaIOUaFH9CpYqhZjPkcwn9lJqA=s64",
      "userId": "18385588513169057983"
     },
     "user_tz": -330
    },
    "id": "ny8NjFITQCHz",
    "outputId": "a3ddba54-b2c3-4683-d28d-346dde678855",
    "trusted": true
   },
   "outputs": [
    {
     "name": "stdout",
     "output_type": "stream",
     "text": [
      "0       0.98470\n",
      "1       0.97000\n",
      "2       0.96760\n",
      "3       0.96860\n",
      "4       0.97140\n",
      "         ...   \n",
      "5212    0.90145\n",
      "5213    0.90070\n",
      "5214    0.89490\n",
      "5215    0.89150\n",
      "5216    0.89070\n",
      "Name: EURO AREA - EURO/US$, Length: 5217, dtype: float64\n"
     ]
    }
   ],
   "source": [
    "print(df)"
   ]
  },
  {
   "cell_type": "code",
   "execution_count": 351,
   "metadata": {
    "execution": {
     "iopub.execute_input": "2024-12-11T04:18:42.751046Z",
     "iopub.status.busy": "2024-12-11T04:18:42.750744Z",
     "iopub.status.idle": "2024-12-11T04:18:42.758744Z",
     "shell.execute_reply": "2024-12-11T04:18:42.758218Z",
     "shell.execute_reply.started": "2024-12-11T04:18:42.751024Z"
    },
    "executionInfo": {
     "elapsed": 3680,
     "status": "ok",
     "timestamp": 1592973450627,
     "user": {
      "displayName": "Dr. Vaibhav Kumar",
      "photoUrl": "https://lh3.googleusercontent.com/a-/AOh14Ggv0ODnZNPUUE1bFaIOUaFH9CpYqhZjPkcwn9lJqA=s64",
      "userId": "18385588513169057983"
     },
     "user_tz": -330
    },
    "id": "R2BO97fBQM6C",
    "trusted": true
   },
   "outputs": [],
   "source": [
    "#Preprocessing data set\n",
    "df = np.array(df).reshape(-1,1)"
   ]
  },
  {
   "cell_type": "code",
   "execution_count": 352,
   "metadata": {
    "execution": {
     "iopub.execute_input": "2024-12-11T04:18:42.761576Z",
     "iopub.status.busy": "2024-12-11T04:18:42.761334Z",
     "iopub.status.idle": "2024-12-11T04:18:42.770451Z",
     "shell.execute_reply": "2024-12-11T04:18:42.769690Z",
     "shell.execute_reply.started": "2024-12-11T04:18:42.761554Z"
    },
    "executionInfo": {
     "elapsed": 3666,
     "status": "ok",
     "timestamp": 1592973450628,
     "user": {
      "displayName": "Dr. Vaibhav Kumar",
      "photoUrl": "https://lh3.googleusercontent.com/a-/AOh14Ggv0ODnZNPUUE1bFaIOUaFH9CpYqhZjPkcwn9lJqA=s64",
      "userId": "18385588513169057983"
     },
     "user_tz": -330
    },
    "id": "RfVzi2rhS_J7",
    "outputId": "e753beca-a9cd-4d68-e77a-362a35811065",
    "trusted": true
   },
   "outputs": [
    {
     "data": {
      "text/plain": [
       "array([[0.9847],\n",
       "       [0.97  ],\n",
       "       [0.9676],\n",
       "       ...,\n",
       "       [0.8949],\n",
       "       [0.8915],\n",
       "       [0.8907]])"
      ]
     },
     "execution_count": 352,
     "metadata": {},
     "output_type": "execute_result"
    }
   ],
   "source": [
    "df"
   ]
  },
  {
   "cell_type": "code",
   "execution_count": 354,
   "metadata": {
    "execution": {
     "iopub.execute_input": "2024-12-11T04:18:42.781735Z",
     "iopub.status.busy": "2024-12-11T04:18:42.781483Z",
     "iopub.status.idle": "2024-12-11T04:18:42.791713Z",
     "shell.execute_reply": "2024-12-11T04:18:42.791137Z",
     "shell.execute_reply.started": "2024-12-11T04:18:42.781712Z"
    },
    "executionInfo": {
     "elapsed": 3665,
     "status": "ok",
     "timestamp": 1592973450632,
     "user": {
      "displayName": "Dr. Vaibhav Kumar",
      "photoUrl": "https://lh3.googleusercontent.com/a-/AOh14Ggv0ODnZNPUUE1bFaIOUaFH9CpYqhZjPkcwn9lJqA=s64",
      "userId": "18385588513169057983"
     },
     "user_tz": -330
    },
    "id": "W31WJ9-SQfki",
    "trusted": true
   },
   "outputs": [],
   "source": [
    "df = scaler.fit_transform(df)"
   ]
  },
  {
   "cell_type": "code",
   "execution_count": 355,
   "metadata": {
    "execution": {
     "iopub.execute_input": "2024-12-11T04:18:42.793300Z",
     "iopub.status.busy": "2024-12-11T04:18:42.792965Z",
     "iopub.status.idle": "2024-12-11T04:18:42.802726Z",
     "shell.execute_reply": "2024-12-11T04:18:42.801990Z",
     "shell.execute_reply.started": "2024-12-11T04:18:42.793267Z"
    },
    "executionInfo": {
     "elapsed": 3652,
     "status": "ok",
     "timestamp": 1592973450634,
     "user": {
      "displayName": "Dr. Vaibhav Kumar",
      "photoUrl": "https://lh3.googleusercontent.com/a-/AOh14Ggv0ODnZNPUUE1bFaIOUaFH9CpYqhZjPkcwn9lJqA=s64",
      "userId": "18385588513169057983"
     },
     "user_tz": -330
    },
    "id": "CBKGP4mRQS-L",
    "outputId": "4ace07b7-7c3b-4446-d880-726e8f667e10",
    "trusted": true
   },
   "outputs": [
    {
     "data": {
      "text/plain": [
       "array([[0.61597674],\n",
       "       [0.59083134],\n",
       "       [0.58672597],\n",
       "       ...,\n",
       "       [0.46236743],\n",
       "       [0.45655149],\n",
       "       [0.45518303]])"
      ]
     },
     "execution_count": 355,
     "metadata": {},
     "output_type": "execute_result"
    }
   ],
   "source": [
    "df"
   ]
  },
  {
   "cell_type": "code",
   "execution_count": 356,
   "metadata": {
    "execution": {
     "iopub.execute_input": "2024-12-11T04:18:42.804029Z",
     "iopub.status.busy": "2024-12-11T04:18:42.803674Z",
     "iopub.status.idle": "2024-12-11T04:18:42.811440Z",
     "shell.execute_reply": "2024-12-11T04:18:42.810595Z",
     "shell.execute_reply.started": "2024-12-11T04:18:42.803994Z"
    },
    "executionInfo": {
     "elapsed": 3641,
     "status": "ok",
     "timestamp": 1592973450636,
     "user": {
      "displayName": "Dr. Vaibhav Kumar",
      "photoUrl": "https://lh3.googleusercontent.com/a-/AOh14Ggv0ODnZNPUUE1bFaIOUaFH9CpYqhZjPkcwn9lJqA=s64",
      "userId": "18385588513169057983"
     },
     "user_tz": -330
    },
    "id": "d5ygb4hhQYFz",
    "outputId": "5a6b3524-ec94-49b0-e50d-80e726b5bec1",
    "trusted": true
   },
   "outputs": [
    {
     "name": "stdout",
     "output_type": "stream",
     "text": [
      "(4800, 1)\n",
      "(417, 1)\n"
     ]
    }
   ],
   "source": [
    "#Training and test sets\n",
    "train = df[:4800]\n",
    "test = df[4800:]\n",
    "\n",
    "print(train.shape)\n",
    "print(test.shape)"
   ]
  },
  {
   "cell_type": "code",
   "execution_count": 357,
   "metadata": {
    "execution": {
     "iopub.execute_input": "2024-12-11T04:18:42.812857Z",
     "iopub.status.busy": "2024-12-11T04:18:42.812521Z",
     "iopub.status.idle": "2024-12-11T04:18:42.823129Z",
     "shell.execute_reply": "2024-12-11T04:18:42.822573Z",
     "shell.execute_reply.started": "2024-12-11T04:18:42.812833Z"
    },
    "executionInfo": {
     "elapsed": 3638,
     "status": "ok",
     "timestamp": 1592973450637,
     "user": {
      "displayName": "Dr. Vaibhav Kumar",
      "photoUrl": "https://lh3.googleusercontent.com/a-/AOh14Ggv0ODnZNPUUE1bFaIOUaFH9CpYqhZjPkcwn9lJqA=s64",
      "userId": "18385588513169057983"
     },
     "user_tz": -330
    },
    "id": "bfxk8KwfQnYi",
    "trusted": true
   },
   "outputs": [],
   "source": [
    "def get_data(data, look_back):\n",
    "  datax, datay = [],[]\n",
    "  for i in range(len(data)-look_back-1):\n",
    "    datax.append(data[i:(i+look_back),0])\n",
    "    datay.append(data[i+look_back,0])\n",
    "  return np.array(datax) , np.array(datay)\n",
    "    "
   ]
  },
  {
   "cell_type": "code",
   "execution_count": 358,
   "metadata": {
    "execution": {
     "iopub.execute_input": "2024-12-11T04:18:42.824290Z",
     "iopub.status.busy": "2024-12-11T04:18:42.824082Z",
     "iopub.status.idle": "2024-12-11T04:18:42.837399Z",
     "shell.execute_reply": "2024-12-11T04:18:42.836636Z",
     "shell.execute_reply.started": "2024-12-11T04:18:42.824270Z"
    },
    "trusted": true
   },
   "outputs": [
    {
     "name": "stdout",
     "output_type": "stream",
     "text": [
      "[[1]\n",
      " [2]\n",
      " [3]\n",
      " [4]\n",
      " [5]\n",
      " [6]]\n",
      "Shape: (6, 1)\n",
      "dataX: [[1]\n",
      " [2]\n",
      " [3]\n",
      " [4]]\n",
      "(4, 1)\n",
      "dataY: [2 3 4 5]\n",
      "(4, 1, 1)\n"
     ]
    }
   ],
   "source": [
    "def get_data1(data, look_back):\n",
    "  datax, datay = [],[]\n",
    "  for i in range(len(data)-look_back-1): #6 - 1 -1 = 4\n",
    "    datax.append(data[i:(i+look_back),0])\n",
    "    datay.append(data[i+look_back,0])\n",
    "  return np.array(datax) , np.array(datay)\n",
    "    \n",
    "# Example data\n",
    "data = np.array([[1], [2], [3], [4], [5], [6]])\n",
    "print(data)\n",
    "print(\"Shape:\", data.shape)\n",
    "look_back = 1\n",
    "\n",
    "# Generate sequences\n",
    "dataX, dataY = get_data1(data, look_back)\n",
    "\n",
    "print(\"dataX:\", dataX)\n",
    "print(dataX.shape)\n",
    "print(\"dataY:\", dataY)\n",
    "x_tr = dataX.reshape(dataX.shape[0],dataX.shape[1], 1)\n",
    "print(x_tr.shape)"
   ]
  },
  {
   "cell_type": "code",
   "execution_count": 359,
   "metadata": {
    "execution": {
     "iopub.execute_input": "2024-12-11T04:18:42.838804Z",
     "iopub.status.busy": "2024-12-11T04:18:42.838595Z",
     "iopub.status.idle": "2024-12-11T04:18:42.855072Z",
     "shell.execute_reply": "2024-12-11T04:18:42.854355Z",
     "shell.execute_reply.started": "2024-12-11T04:18:42.838785Z"
    },
    "executionInfo": {
     "elapsed": 3624,
     "status": "ok",
     "timestamp": 1592973450638,
     "user": {
      "displayName": "Dr. Vaibhav Kumar",
      "photoUrl": "https://lh3.googleusercontent.com/a-/AOh14Ggv0ODnZNPUUE1bFaIOUaFH9CpYqhZjPkcwn9lJqA=s64",
      "userId": "18385588513169057983"
     },
     "user_tz": -330
    },
    "id": "UtWsYOBeQqq6",
    "outputId": "ffdedba6-b5f1-4c16-d6f2-c47e31a65426",
    "trusted": true
   },
   "outputs": [
    {
     "name": "stdout",
     "output_type": "stream",
     "text": [
      "(4798, 1)\n",
      "(4798,)\n"
     ]
    }
   ],
   "source": [
    "look_back = 1\n",
    "\n",
    "x_train , y_train = get_data(train, look_back)\n",
    "print(x_train.shape)\n",
    "print(y_train.shape)\n"
   ]
  },
  {
   "cell_type": "code",
   "execution_count": 360,
   "metadata": {
    "execution": {
     "iopub.execute_input": "2024-12-11T04:18:42.856235Z",
     "iopub.status.busy": "2024-12-11T04:18:42.856012Z",
     "iopub.status.idle": "2024-12-11T04:18:42.863528Z",
     "shell.execute_reply": "2024-12-11T04:18:42.862906Z",
     "shell.execute_reply.started": "2024-12-11T04:18:42.856213Z"
    },
    "executionInfo": {
     "elapsed": 3612,
     "status": "ok",
     "timestamp": 1592973450639,
     "user": {
      "displayName": "Dr. Vaibhav Kumar",
      "photoUrl": "https://lh3.googleusercontent.com/a-/AOh14Ggv0ODnZNPUUE1bFaIOUaFH9CpYqhZjPkcwn9lJqA=s64",
      "userId": "18385588513169057983"
     },
     "user_tz": -330
    },
    "id": "QmQ4aTwAQuQz",
    "outputId": "db3812ce-8ede-4c54-d2ee-aa22c7a42c6d",
    "trusted": true
   },
   "outputs": [
    {
     "name": "stdout",
     "output_type": "stream",
     "text": [
      "(415, 1)\n",
      "(415,)\n"
     ]
    }
   ],
   "source": [
    "x_test , y_test = get_data(test,look_back)\n",
    "print(x_test.shape)\n",
    "print(y_test.shape)"
   ]
  },
  {
   "cell_type": "code",
   "execution_count": 361,
   "metadata": {
    "execution": {
     "iopub.execute_input": "2024-12-11T04:18:42.864651Z",
     "iopub.status.busy": "2024-12-11T04:18:42.864416Z",
     "iopub.status.idle": "2024-12-11T04:18:42.872657Z",
     "shell.execute_reply": "2024-12-11T04:18:42.872041Z",
     "shell.execute_reply.started": "2024-12-11T04:18:42.864617Z"
    },
    "executionInfo": {
     "elapsed": 3609,
     "status": "ok",
     "timestamp": 1592973450639,
     "user": {
      "displayName": "Dr. Vaibhav Kumar",
      "photoUrl": "https://lh3.googleusercontent.com/a-/AOh14Ggv0ODnZNPUUE1bFaIOUaFH9CpYqhZjPkcwn9lJqA=s64",
      "userId": "18385588513169057983"
     },
     "user_tz": -330
    },
    "id": "OzM72hLXQ8oS",
    "trusted": true
   },
   "outputs": [],
   "source": [
    "#Processing train and test sets for LSTM model\n",
    "x_train = x_train.reshape(x_train.shape[0],x_train.shape[1], 1)\n",
    "x_test = x_test.reshape(x_test.shape[0],x_test.shape[1], 1)"
   ]
  },
  {
   "cell_type": "code",
   "execution_count": 362,
   "metadata": {
    "execution": {
     "iopub.execute_input": "2024-12-11T04:18:42.873862Z",
     "iopub.status.busy": "2024-12-11T04:18:42.873621Z",
     "iopub.status.idle": "2024-12-11T04:18:42.884324Z",
     "shell.execute_reply": "2024-12-11T04:18:42.883546Z",
     "shell.execute_reply.started": "2024-12-11T04:18:42.873823Z"
    },
    "executionInfo": {
     "elapsed": 3595,
     "status": "ok",
     "timestamp": 1592973450640,
     "user": {
      "displayName": "Dr. Vaibhav Kumar",
      "photoUrl": "https://lh3.googleusercontent.com/a-/AOh14Ggv0ODnZNPUUE1bFaIOUaFH9CpYqhZjPkcwn9lJqA=s64",
      "userId": "18385588513169057983"
     },
     "user_tz": -330
    },
    "id": "G-B3ojD_Q_9r",
    "outputId": "fbb4aaef-334a-4f71-f8a7-2d4abe74567f",
    "trusted": true
   },
   "outputs": [
    {
     "name": "stdout",
     "output_type": "stream",
     "text": [
      "(4798, 1, 1)\n",
      "(415, 1, 1)\n"
     ]
    }
   ],
   "source": [
    "print(x_train.shape)\n",
    "print(x_test.shape)\n"
   ]
  },
  {
   "cell_type": "code",
   "execution_count": null,
   "metadata": {
    "execution": {
     "iopub.execute_input": "2024-12-11T04:18:42.885590Z",
     "iopub.status.busy": "2024-12-11T04:18:42.885384Z",
     "iopub.status.idle": "2024-12-11T04:18:42.896307Z",
     "shell.execute_reply": "2024-12-11T04:18:42.895709Z",
     "shell.execute_reply.started": "2024-12-11T04:18:42.885571Z"
    },
    "executionInfo": {
     "elapsed": 3594,
     "status": "ok",
     "timestamp": 1592973450641,
     "user": {
      "displayName": "Dr. Vaibhav Kumar",
      "photoUrl": "https://lh3.googleusercontent.com/a-/AOh14Ggv0ODnZNPUUE1bFaIOUaFH9CpYqhZjPkcwn9lJqA=s64",
      "userId": "18385588513169057983"
     },
     "user_tz": -330
    },
    "id": "CwlLkaaWUnG3",
    "trusted": true
   },
   "outputs": [],
   "source": [
    "#Defining the LSTM model\n",
    "\n"
   ]
  },
  {
   "cell_type": "code",
   "execution_count": 364,
   "metadata": {
    "execution": {
     "iopub.execute_input": "2024-12-11T04:18:42.897479Z",
     "iopub.status.busy": "2024-12-11T04:18:42.897250Z",
     "iopub.status.idle": "2024-12-11T04:18:42.976242Z",
     "shell.execute_reply": "2024-12-11T04:18:42.975682Z",
     "shell.execute_reply.started": "2024-12-11T04:18:42.897458Z"
    },
    "executionInfo": {
     "elapsed": 1668,
     "status": "ok",
     "timestamp": 1592973461273,
     "user": {
      "displayName": "Dr. Vaibhav Kumar",
      "photoUrl": "https://lh3.googleusercontent.com/a-/AOh14Ggv0ODnZNPUUE1bFaIOUaFH9CpYqhZjPkcwn9lJqA=s64",
      "userId": "18385588513169057983"
     },
     "user_tz": -330
    },
    "id": "ADqH_jV4RE1C",
    "trusted": true
   },
   "outputs": [],
   "source": [
    "n_features=x_train.shape[1]\n",
    "model=Sequential()\n",
    "model.add(LSTM(100,activation='relu',input_shape=(1,1)))\n",
    "model.add(Dense(n_features))"
   ]
  },
  {
   "cell_type": "code",
   "execution_count": 365,
   "metadata": {
    "execution": {
     "iopub.execute_input": "2024-12-11T04:18:42.977283Z",
     "iopub.status.busy": "2024-12-11T04:18:42.977075Z",
     "iopub.status.idle": "2024-12-11T04:18:42.982461Z",
     "shell.execute_reply": "2024-12-11T04:18:42.981719Z",
     "shell.execute_reply.started": "2024-12-11T04:18:42.977256Z"
    },
    "executionInfo": {
     "elapsed": 1168,
     "status": "ok",
     "timestamp": 1592973477269,
     "user": {
      "displayName": "Dr. Vaibhav Kumar",
      "photoUrl": "https://lh3.googleusercontent.com/a-/AOh14Ggv0ODnZNPUUE1bFaIOUaFH9CpYqhZjPkcwn9lJqA=s64",
      "userId": "18385588513169057983"
     },
     "user_tz": -330
    },
    "id": "lbd3pItfnhRU",
    "outputId": "d53c8c90-3149-46a5-e808-69d387e43179",
    "trusted": true
   },
   "outputs": [
    {
     "name": "stdout",
     "output_type": "stream",
     "text": [
      "Model: \"sequential_11\"\n",
      "_________________________________________________________________\n",
      "Layer (type)                 Output Shape              Param #   \n",
      "=================================================================\n",
      "lstm_11 (LSTM)               (None, 100)               40800     \n",
      "_________________________________________________________________\n",
      "dense_11 (Dense)             (None, 1)                 101       \n",
      "=================================================================\n",
      "Total params: 40,901\n",
      "Trainable params: 40,901\n",
      "Non-trainable params: 0\n",
      "_________________________________________________________________\n"
     ]
    }
   ],
   "source": [
    "model.summary()"
   ]
  },
  {
   "cell_type": "code",
   "execution_count": 366,
   "metadata": {
    "execution": {
     "iopub.execute_input": "2024-12-11T04:18:42.983669Z",
     "iopub.status.busy": "2024-12-11T04:18:42.983442Z",
     "iopub.status.idle": "2024-12-11T04:18:42.998211Z",
     "shell.execute_reply": "2024-12-11T04:18:42.997505Z",
     "shell.execute_reply.started": "2024-12-11T04:18:42.983648Z"
    },
    "executionInfo": {
     "elapsed": 1563,
     "status": "ok",
     "timestamp": 1592973688029,
     "user": {
      "displayName": "Dr. Vaibhav Kumar",
      "photoUrl": "https://lh3.googleusercontent.com/a-/AOh14Ggv0ODnZNPUUE1bFaIOUaFH9CpYqhZjPkcwn9lJqA=s64",
      "userId": "18385588513169057983"
     },
     "user_tz": -330
    },
    "id": "UtqjJA0wRHPq",
    "trusted": true
   },
   "outputs": [],
   "source": [
    "#Compiling\n",
    "model.compile(optimizer='adam', loss = 'mse')"
   ]
  },
  {
   "cell_type": "code",
   "execution_count": 367,
   "metadata": {
    "execution": {
     "iopub.execute_input": "2024-12-11T04:18:42.999454Z",
     "iopub.status.busy": "2024-12-11T04:18:42.999226Z",
     "iopub.status.idle": "2024-12-11T04:20:18.420182Z",
     "shell.execute_reply": "2024-12-11T04:20:18.419509Z",
     "shell.execute_reply.started": "2024-12-11T04:18:42.999433Z"
    },
    "executionInfo": {
     "elapsed": 184042,
     "status": "ok",
     "timestamp": 1592973871254,
     "user": {
      "displayName": "Dr. Vaibhav Kumar",
      "photoUrl": "https://lh3.googleusercontent.com/a-/AOh14Ggv0ODnZNPUUE1bFaIOUaFH9CpYqhZjPkcwn9lJqA=s64",
      "userId": "18385588513169057983"
     },
     "user_tz": -330
    },
    "id": "rQmkEljuRJ5K",
    "outputId": "3a13e3bd-01e3-4316-812f-4ac4737a0479",
    "trusted": true
   },
   "outputs": [
    {
     "name": "stdout",
     "output_type": "stream",
     "text": [
      "Epoch 1/100\n",
      "300/300 [==============================] - 1s 3ms/step - loss: 0.0360\n",
      "Epoch 2/100\n",
      "300/300 [==============================] - 1s 3ms/step - loss: 0.0014\n",
      "Epoch 3/100\n",
      "300/300 [==============================] - 1s 3ms/step - loss: 2.3826e-04\n",
      "Epoch 4/100\n",
      "300/300 [==============================] - 1s 3ms/step - loss: 2.1743e-04\n",
      "Epoch 5/100\n",
      "300/300 [==============================] - 1s 3ms/step - loss: 2.0065e-04\n",
      "Epoch 6/100\n",
      "300/300 [==============================] - 1s 3ms/step - loss: 1.8245e-04\n",
      "Epoch 7/100\n",
      "300/300 [==============================] - 1s 3ms/step - loss: 1.6580e-04\n",
      "Epoch 8/100\n",
      "300/300 [==============================] - 1s 3ms/step - loss: 1.4545e-04\n",
      "Epoch 9/100\n",
      "300/300 [==============================] - 1s 3ms/step - loss: 1.2841e-04\n",
      "Epoch 10/100\n",
      "300/300 [==============================] - 1s 3ms/step - loss: 1.1601e-04\n",
      "Epoch 11/100\n",
      "300/300 [==============================] - 1s 3ms/step - loss: 1.0510e-04\n",
      "Epoch 12/100\n",
      "300/300 [==============================] - 1s 3ms/step - loss: 9.1268e-05\n",
      "Epoch 13/100\n",
      "300/300 [==============================] - 1s 3ms/step - loss: 8.7245e-05\n",
      "Epoch 14/100\n",
      "300/300 [==============================] - 1s 3ms/step - loss: 8.3439e-05\n",
      "Epoch 15/100\n",
      "300/300 [==============================] - 1s 3ms/step - loss: 8.3789e-05\n",
      "Epoch 16/100\n",
      "300/300 [==============================] - 1s 3ms/step - loss: 8.6294e-05\n",
      "Epoch 17/100\n",
      "300/300 [==============================] - 1s 3ms/step - loss: 8.4677e-05\n",
      "Epoch 18/100\n",
      "300/300 [==============================] - 1s 3ms/step - loss: 8.4294e-05\n",
      "Epoch 19/100\n",
      "300/300 [==============================] - 1s 3ms/step - loss: 8.6357e-05\n",
      "Epoch 20/100\n",
      "300/300 [==============================] - 1s 3ms/step - loss: 8.6892e-05\n",
      "Epoch 21/100\n",
      "300/300 [==============================] - 1s 3ms/step - loss: 8.2945e-05\n",
      "Epoch 22/100\n",
      "300/300 [==============================] - 1s 3ms/step - loss: 8.3514e-05\n",
      "Epoch 23/100\n",
      "300/300 [==============================] - 1s 3ms/step - loss: 8.2943e-05\n",
      "Epoch 24/100\n",
      "300/300 [==============================] - 1s 3ms/step - loss: 8.5075e-05\n",
      "Epoch 25/100\n",
      "300/300 [==============================] - 1s 3ms/step - loss: 8.5235e-05\n",
      "Epoch 26/100\n",
      "300/300 [==============================] - 1s 3ms/step - loss: 8.2267e-05\n",
      "Epoch 27/100\n",
      "300/300 [==============================] - 1s 3ms/step - loss: 8.9305e-05\n",
      "Epoch 28/100\n",
      "300/300 [==============================] - 1s 3ms/step - loss: 8.3065e-05\n",
      "Epoch 29/100\n",
      "300/300 [==============================] - 1s 3ms/step - loss: 8.5837e-05\n",
      "Epoch 30/100\n",
      "300/300 [==============================] - 1s 3ms/step - loss: 8.6606e-05\n",
      "Epoch 31/100\n",
      "300/300 [==============================] - 1s 3ms/step - loss: 8.4269e-05\n",
      "Epoch 32/100\n",
      "300/300 [==============================] - 1s 3ms/step - loss: 8.4420e-05\n",
      "Epoch 33/100\n",
      "300/300 [==============================] - 1s 3ms/step - loss: 8.7016e-05\n",
      "Epoch 34/100\n",
      "300/300 [==============================] - 1s 3ms/step - loss: 8.4227e-05\n",
      "Epoch 35/100\n",
      "300/300 [==============================] - 1s 3ms/step - loss: 8.2442e-05\n",
      "Epoch 36/100\n",
      "300/300 [==============================] - 1s 3ms/step - loss: 8.3916e-05\n",
      "Epoch 37/100\n",
      "300/300 [==============================] - 1s 3ms/step - loss: 8.4132e-05\n",
      "Epoch 38/100\n",
      "300/300 [==============================] - 1s 3ms/step - loss: 8.7055e-05\n",
      "Epoch 39/100\n",
      "300/300 [==============================] - 1s 3ms/step - loss: 8.2970e-05\n",
      "Epoch 40/100\n",
      "300/300 [==============================] - 1s 3ms/step - loss: 8.3069e-05\n",
      "Epoch 41/100\n",
      "300/300 [==============================] - 1s 3ms/step - loss: 8.7586e-05\n",
      "Epoch 42/100\n",
      "300/300 [==============================] - 1s 3ms/step - loss: 8.3760e-05\n",
      "Epoch 43/100\n",
      "300/300 [==============================] - 1s 3ms/step - loss: 8.5242e-05\n",
      "Epoch 44/100\n",
      "300/300 [==============================] - 1s 3ms/step - loss: 8.5218e-05\n",
      "Epoch 45/100\n",
      "300/300 [==============================] - 1s 3ms/step - loss: 8.3495e-05\n",
      "Epoch 46/100\n",
      "300/300 [==============================] - 1s 3ms/step - loss: 8.6495e-05\n",
      "Epoch 47/100\n",
      "300/300 [==============================] - 1s 3ms/step - loss: 8.6726e-05\n",
      "Epoch 48/100\n",
      "300/300 [==============================] - 1s 3ms/step - loss: 8.6073e-05\n",
      "Epoch 49/100\n",
      "300/300 [==============================] - 1s 3ms/step - loss: 8.6185e-05\n",
      "Epoch 50/100\n",
      "300/300 [==============================] - 1s 3ms/step - loss: 8.5539e-05\n",
      "Epoch 51/100\n",
      "300/300 [==============================] - 1s 3ms/step - loss: 8.3458e-05\n",
      "Epoch 52/100\n",
      "300/300 [==============================] - 1s 3ms/step - loss: 8.8338e-05\n",
      "Epoch 53/100\n",
      "300/300 [==============================] - 1s 3ms/step - loss: 8.7272e-05\n",
      "Epoch 54/100\n",
      "300/300 [==============================] - 1s 3ms/step - loss: 8.3581e-05\n",
      "Epoch 55/100\n",
      "300/300 [==============================] - 1s 3ms/step - loss: 8.3056e-05\n",
      "Epoch 56/100\n",
      "300/300 [==============================] - 1s 3ms/step - loss: 8.5751e-05\n",
      "Epoch 57/100\n",
      "300/300 [==============================] - 1s 3ms/step - loss: 8.5060e-05\n",
      "Epoch 58/100\n",
      "300/300 [==============================] - 1s 3ms/step - loss: 8.3352e-05\n",
      "Epoch 59/100\n",
      "300/300 [==============================] - 1s 3ms/step - loss: 8.4139e-05\n",
      "Epoch 60/100\n",
      "300/300 [==============================] - 1s 3ms/step - loss: 8.3954e-05\n",
      "Epoch 61/100\n",
      "300/300 [==============================] - 1s 3ms/step - loss: 8.3280e-05\n",
      "Epoch 62/100\n",
      "300/300 [==============================] - 1s 3ms/step - loss: 8.9369e-05\n",
      "Epoch 63/100\n",
      "300/300 [==============================] - 1s 3ms/step - loss: 8.3644e-05\n",
      "Epoch 64/100\n",
      "300/300 [==============================] - 1s 3ms/step - loss: 8.8172e-05\n",
      "Epoch 65/100\n",
      "300/300 [==============================] - 1s 3ms/step - loss: 8.4903e-05\n",
      "Epoch 66/100\n",
      "300/300 [==============================] - 1s 3ms/step - loss: 8.7047e-05\n",
      "Epoch 67/100\n",
      "300/300 [==============================] - 1s 3ms/step - loss: 8.2459e-05\n",
      "Epoch 68/100\n",
      "300/300 [==============================] - 1s 3ms/step - loss: 8.8042e-05\n",
      "Epoch 69/100\n",
      "300/300 [==============================] - 1s 3ms/step - loss: 8.4444e-05\n",
      "Epoch 70/100\n",
      "300/300 [==============================] - 1s 3ms/step - loss: 8.7251e-05\n",
      "Epoch 71/100\n",
      "300/300 [==============================] - 1s 3ms/step - loss: 8.2333e-05\n",
      "Epoch 72/100\n",
      "300/300 [==============================] - 1s 3ms/step - loss: 8.4201e-05\n",
      "Epoch 73/100\n",
      "300/300 [==============================] - 1s 3ms/step - loss: 8.3402e-05\n",
      "Epoch 74/100\n",
      "300/300 [==============================] - 1s 3ms/step - loss: 8.3972e-05\n",
      "Epoch 75/100\n",
      "300/300 [==============================] - 1s 3ms/step - loss: 8.4554e-05\n",
      "Epoch 76/100\n",
      "300/300 [==============================] - 1s 3ms/step - loss: 8.3776e-05\n",
      "Epoch 77/100\n",
      "300/300 [==============================] - 1s 3ms/step - loss: 8.5373e-05\n",
      "Epoch 78/100\n",
      "300/300 [==============================] - 1s 3ms/step - loss: 8.6218e-05\n",
      "Epoch 79/100\n",
      "300/300 [==============================] - 1s 3ms/step - loss: 8.4791e-05\n",
      "Epoch 80/100\n",
      "300/300 [==============================] - 1s 3ms/step - loss: 8.5037e-05\n",
      "Epoch 81/100\n",
      "300/300 [==============================] - 1s 3ms/step - loss: 8.4456e-05\n",
      "Epoch 82/100\n",
      "300/300 [==============================] - 1s 3ms/step - loss: 9.0008e-05\n",
      "Epoch 83/100\n",
      "300/300 [==============================] - 1s 3ms/step - loss: 8.5634e-05\n",
      "Epoch 84/100\n",
      "300/300 [==============================] - 1s 3ms/step - loss: 8.6920e-05\n",
      "Epoch 85/100\n",
      "300/300 [==============================] - 1s 3ms/step - loss: 8.6859e-05\n",
      "Epoch 86/100\n",
      "300/300 [==============================] - 1s 3ms/step - loss: 8.3677e-05\n",
      "Epoch 87/100\n",
      "300/300 [==============================] - 1s 3ms/step - loss: 8.3593e-05\n",
      "Epoch 88/100\n",
      "300/300 [==============================] - 1s 3ms/step - loss: 8.4370e-05\n",
      "Epoch 89/100\n",
      "300/300 [==============================] - 1s 3ms/step - loss: 8.4763e-05\n",
      "Epoch 90/100\n",
      "300/300 [==============================] - 1s 3ms/step - loss: 8.3921e-05\n",
      "Epoch 91/100\n",
      "300/300 [==============================] - 1s 3ms/step - loss: 8.8065e-05\n",
      "Epoch 92/100\n",
      "300/300 [==============================] - 1s 3ms/step - loss: 8.4513e-05\n",
      "Epoch 93/100\n",
      "300/300 [==============================] - 1s 3ms/step - loss: 8.5303e-05\n",
      "Epoch 94/100\n",
      "300/300 [==============================] - 1s 3ms/step - loss: 8.5782e-05\n",
      "Epoch 95/100\n",
      "300/300 [==============================] - 1s 3ms/step - loss: 8.2449e-05\n",
      "Epoch 96/100\n",
      "300/300 [==============================] - 1s 3ms/step - loss: 8.6382e-05\n",
      "Epoch 97/100\n",
      "300/300 [==============================] - 1s 3ms/step - loss: 8.6492e-05\n",
      "Epoch 98/100\n",
      "300/300 [==============================] - 1s 3ms/step - loss: 8.5306e-05\n",
      "Epoch 99/100\n",
      "300/300 [==============================] - 1s 3ms/step - loss: 8.4801e-05\n",
      "Epoch 100/100\n",
      "300/300 [==============================] - 1s 3ms/step - loss: 8.4641e-05\n"
     ]
    },
    {
     "data": {
      "text/plain": [
       "<tensorflow.python.keras.callbacks.History at 0x7b04637e66d0>"
      ]
     },
     "execution_count": 367,
     "metadata": {},
     "output_type": "execute_result"
    }
   ],
   "source": [
    "#Training\n",
    "model.fit(x_train,y_train, epochs = 100, batch_size=16)"
   ]
  },
  {
   "cell_type": "code",
   "execution_count": 368,
   "metadata": {
    "execution": {
     "iopub.execute_input": "2024-12-11T04:20:18.421443Z",
     "iopub.status.busy": "2024-12-11T04:20:18.421210Z",
     "iopub.status.idle": "2024-12-11T04:20:18.426111Z",
     "shell.execute_reply": "2024-12-11T04:20:18.425431Z",
     "shell.execute_reply.started": "2024-12-11T04:20:18.421421Z"
    },
    "executionInfo": {
     "elapsed": 183254,
     "status": "ok",
     "timestamp": 1592973871258,
     "user": {
      "displayName": "Dr. Vaibhav Kumar",
      "photoUrl": "https://lh3.googleusercontent.com/a-/AOh14Ggv0ODnZNPUUE1bFaIOUaFH9CpYqhZjPkcwn9lJqA=s64",
      "userId": "18385588513169057983"
     },
     "user_tz": -330
    },
    "id": "W0NpJaSLRNuR",
    "outputId": "4684b759-a152-454a-f026-c7a15129c183",
    "trusted": true
   },
   "outputs": [
    {
     "data": {
      "text/plain": [
       "array([1.71057133])"
      ]
     },
     "execution_count": 368,
     "metadata": {},
     "output_type": "execute_result"
    }
   ],
   "source": [
    "#Prediction using the trained model\n",
    "scaler.scale_"
   ]
  },
  {
   "cell_type": "code",
   "execution_count": 369,
   "metadata": {
    "execution": {
     "iopub.execute_input": "2024-12-11T04:20:18.427399Z",
     "iopub.status.busy": "2024-12-11T04:20:18.427184Z",
     "iopub.status.idle": "2024-12-11T04:20:18.594132Z",
     "shell.execute_reply": "2024-12-11T04:20:18.593407Z",
     "shell.execute_reply.started": "2024-12-11T04:20:18.427378Z"
    },
    "executionInfo": {
     "elapsed": 181821,
     "status": "ok",
     "timestamp": 1592973872159,
     "user": {
      "displayName": "Dr. Vaibhav Kumar",
      "photoUrl": "https://lh3.googleusercontent.com/a-/AOh14Ggv0ODnZNPUUE1bFaIOUaFH9CpYqhZjPkcwn9lJqA=s64",
      "userId": "18385588513169057983"
     },
     "user_tz": -330
    },
    "id": "onJFn6KyRQfa",
    "outputId": "f6284061-a829-4e2e-f234-790c49c02d73",
    "trusted": true
   },
   "outputs": [
    {
     "name": "stdout",
     "output_type": "stream",
     "text": [
      "[[0.8616307 ]\n",
      " [0.865875  ]\n",
      " [0.8574863 ]\n",
      " [0.85708684]\n",
      " [0.8563878 ]\n",
      " [0.8551894 ]\n",
      " [0.856987  ]\n",
      " [0.8491976 ]\n",
      " [0.8466011 ]\n",
      " [0.8495971 ]]\n"
     ]
    }
   ],
   "source": [
    "y_pred = model.predict(x_test)\n",
    "y_pred = scaler.inverse_transform(y_pred)\n",
    "print(y_pred[:10])"
   ]
  },
  {
   "cell_type": "code",
   "execution_count": 370,
   "metadata": {
    "execution": {
     "iopub.execute_input": "2024-12-11T04:20:18.595410Z",
     "iopub.status.busy": "2024-12-11T04:20:18.595191Z",
     "iopub.status.idle": "2024-12-11T04:20:18.600574Z",
     "shell.execute_reply": "2024-12-11T04:20:18.599627Z",
     "shell.execute_reply.started": "2024-12-11T04:20:18.595389Z"
    },
    "executionInfo": {
     "elapsed": 180968,
     "status": "ok",
     "timestamp": 1592973872160,
     "user": {
      "displayName": "Dr. Vaibhav Kumar",
      "photoUrl": "https://lh3.googleusercontent.com/a-/AOh14Ggv0ODnZNPUUE1bFaIOUaFH9CpYqhZjPkcwn9lJqA=s64",
      "userId": "18385588513169057983"
     },
     "user_tz": -330
    },
    "id": "eyfbYKohRUVB",
    "outputId": "290a63c6-ab80-417e-d395-30a8527846ca",
    "trusted": true
   },
   "outputs": [
    {
     "name": "stdout",
     "output_type": "stream",
     "text": [
      "[[0.8657]\n",
      " [0.8573]\n",
      " [0.8569]\n",
      " [0.8562]\n",
      " [0.855 ]\n",
      " [0.8568]\n",
      " [0.849 ]\n",
      " [0.8464]\n",
      " [0.8494]\n",
      " [0.8473]]\n"
     ]
    }
   ],
   "source": [
    "#Processing test shape\n",
    "y_test = np.array(y_test).reshape(-1,1)\n",
    "y_test = scaler.inverse_transform(y_test)\n",
    "print(y_test[:10])"
   ]
  },
  {
   "cell_type": "code",
   "execution_count": 371,
   "metadata": {
    "execution": {
     "iopub.execute_input": "2024-12-11T04:20:18.601896Z",
     "iopub.status.busy": "2024-12-11T04:20:18.601603Z",
     "iopub.status.idle": "2024-12-11T04:20:18.774056Z",
     "shell.execute_reply": "2024-12-11T04:20:18.773307Z",
     "shell.execute_reply.started": "2024-12-11T04:20:18.601871Z"
    },
    "executionInfo": {
     "elapsed": 179561,
     "status": "ok",
     "timestamp": 1592973872162,
     "user": {
      "displayName": "Dr. Vaibhav Kumar",
      "photoUrl": "https://lh3.googleusercontent.com/a-/AOh14Ggv0ODnZNPUUE1bFaIOUaFH9CpYqhZjPkcwn9lJqA=s64",
      "userId": "18385588513169057983"
     },
     "user_tz": -330
    },
    "id": "Ly_SbnZ3RZxS",
    "outputId": "e7a1641f-ef16-492d-c523-e69ef2212f60",
    "trusted": true
   },
   "outputs": [
    {
     "data": {
      "text/plain": [
       "<matplotlib.legend.Legend at 0x7b0462b9ab10>"
      ]
     },
     "execution_count": 371,
     "metadata": {},
     "output_type": "execute_result"
    },
    {
     "data": {
      "image/png": "[encoded data removed]",
      "text/plain": [
       "<Figure size 1440x576 with 1 Axes>"
      ]
     },
     "metadata": {
      "needs_background": "light"
     },
     "output_type": "display_data"
    }
   ],
   "source": [
    "#Visualizing the results\n",
    "plt.figure(figsize=(20,8))\n",
    "plt.title('Foreign Exchange Rate of Euro')\n",
    "plt.plot(y_test , label = 'Actual', color = 'g')\n",
    "plt.plot(y_pred , label = 'Predicted', color = 'r')\n",
    "plt.legend()"
   ]
  },
  {
   "cell_type": "code",
   "execution_count": null,
   "metadata": {
    "execution": {
     "iopub.execute_input": "2024-12-11T04:20:18.775240Z",
     "iopub.status.busy": "2024-12-11T04:20:18.775019Z",
     "iopub.status.idle": "2024-12-11T04:20:18.780446Z",
     "shell.execute_reply": "2024-12-11T04:20:18.779688Z",
     "shell.execute_reply.started": "2024-12-11T04:20:18.775218Z"
    },
    "executionInfo": {
     "elapsed": 1314,
     "status": "ok",
     "timestamp": 1592973880439,
     "user": {
      "displayName": "Dr. Vaibhav Kumar",
      "photoUrl": "https://lh3.googleusercontent.com/a-/AOh14Ggv0ODnZNPUUE1bFaIOUaFH9CpYqhZjPkcwn9lJqA=s64",
      "userId": "18385588513169057983"
     },
     "user_tz": -330
    },
    "id": "mM6fn5-CokFc",
    "outputId": "39b9003c-1399-4f64-bc6f-211f6d59d360",
    "trusted": true
   },
   "outputs": [
    {
     "data": {
      "text/plain": [
       "8.147829158397575e-06"
      ]
     },
     "execution_count": 372,
     "metadata": {},
     "output_type": "execute_result"
    }
   ],
   "source": [
    "mean_squared_error(y_test, y_pred)"
   ]
  }
 ],
 "metadata": {
  "kaggle": {
   "accelerator": "gpu",
   "dataSources": [
    {
     "datasetId": 535863,
     "sourceId": 984605,
     "sourceType": "datasetVersion"
    }
   ],
   "dockerImageVersionId": 29995,
   "isGpuEnabled": true,
   "isInternetEnabled": true,
   "language": "python",
   "sourceType": "notebook"
  },
  "kernelspec": {
   "display_name": "Python 3",
   "language": "python",
   "name": "python3"
  },
  "language_info": {
   "codemirror_mode": {
    "name": "ipython",
    "version": 3
   },
   "file_extension": ".py",
   "mimetype": "text/x-python",
   "name": "python",
   "nbconvert_exporter": "python",
   "pygments_lexer": "ipython3",
   "version": "3.7.6"
  }
 },
 "nbformat": 4,
 "nbformat_minor": 4
}
